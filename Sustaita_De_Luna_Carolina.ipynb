{
  "nbformat": 4,
  "nbformat_minor": 0,
  "metadata": {
    "colab": {
      "provenance": [],
      "authorship_tag": "ABX9TyP8ufBlyr92mSO5eEu3QGA3",
      "include_colab_link": true
    },
    "kernelspec": {
      "name": "python3",
      "display_name": "Python 3"
    },
    "language_info": {
      "name": "python"
    }
  },
  "cells": [
    {
      "cell_type": "markdown",
      "metadata": {
        "id": "view-in-github",
        "colab_type": "text"
      },
      "source": [
        "<a href=\"https://colab.research.google.com/github/luancs31/Analisis-y-Diseno-de-Algoritmos/blob/main/Sustaita_De_Luna_Carolina.ipynb\" target=\"_parent\"><img src=\"https://colab.research.google.com/assets/colab-badge.svg\" alt=\"Open In Colab\"/></a>"
      ]
    },
    {
      "cell_type": "markdown",
      "source": [
        "Nombre:Carolina sustaita de Luna\n",
        "\n",
        "Materia: Análisis y Diseño de Algoritmos\n",
        "\n",
        "05 de octubre de 2023"
      ],
      "metadata": {
        "id": "Cd_WYgdOaRXv"
      }
    },
    {
      "cell_type": "code",
      "execution_count": null,
      "metadata": {
        "colab": {
          "base_uri": "https://localhost:8080/"
        },
        "id": "0bRvobDBnM94",
        "outputId": "5cdb84c3-7083-41bc-bc0e-740d13ddf894"
      },
      "outputs": [
        {
          "output_type": "stream",
          "name": "stdout",
          "text": [
            "Red\n",
            "Carbon fiber\n",
            "Blue\n",
            "Steel\n",
            "Braking!\n"
          ]
        }
      ],
      "source": [
        "# definimos la clase Bicicleta\n",
        "class Bike:\n",
        "\n",
        "    def __init__(self, colour, frame_material):\n",
        "        self.colour = colour\n",
        "        self.frame_material = frame_material\n",
        "\n",
        "    def brake(self):\n",
        "        print(\"Braking!\")\n",
        "\n",
        "# creamos un par de instancias\n",
        "red_bike = Bike('Red', 'Carbon fiber')\n",
        "blue_bike = Bike('Blue', 'Steel')\n",
        "\n",
        "# Inspeccionemos los objetos que tenemos, instancias de la clase Bike.\n",
        "print(red_bike.colour) # prints: Red\n",
        "print(red_bike.frame_material) # prints: Carbon fiber\n",
        "print(blue_bike.colour) # prints: Blue\n",
        "print(blue_bike.frame_material) # prints: Steel\n",
        "\n",
        "# finalizamos\n",
        "red_bike.brake() # prints: Braking!"
      ]
    },
    {
      "cell_type": "code",
      "source": [
        "c = 3.14 + 2.73j\n",
        "c = complex(3.14, 2.73) # Lo misma que arriba\n",
        "print(c.real) # parte real\n",
        "\n",
        "print(c.imag) # parte imaginaria\n",
        "\n",
        "c.conjugate() # conjugado de A + Bj is A - Bj\n",
        "\n",
        "print(c * 2) # multiplicacion\n",
        "\n",
        "print(c ** 2) # operacion de potencias\n",
        "\n",
        "d = 1 + 1j # sumas y restas tambien\n",
        "print(c - d)"
      ],
      "metadata": {
        "colab": {
          "base_uri": "https://localhost:8080/"
        },
        "id": "8ZCcVyhArB3m",
        "outputId": "6ebf2032-46ef-463f-a1c1-2998dc582e20"
      },
      "execution_count": null,
      "outputs": [
        {
          "output_type": "stream",
          "name": "stdout",
          "text": [
            "3.14\n",
            "2.73\n",
            "(6.28+5.46j)\n",
            "(2.4067000000000007+17.1444j)\n",
            "(2.14+1.73j)\n"
          ]
        }
      ]
    },
    {
      "cell_type": "code",
      "source": [
        "from fractions import Fraction\n",
        "Fraction(10,6)\n",
        "Fraction(1,3)+Fraction(2,3)# 1/3 +2/3 ==3/3 ==1/1\n",
        "f=Fraction(10,6)\n",
        "print(f.numerator)\n",
        "\n",
        "print(f.denominator)\n",
        "\n",
        "f.as_integer_ratio()"
      ],
      "metadata": {
        "id": "zZYRExbhrW9T",
        "outputId": "a59b7e70-fe25-4b5e-9e16-09011ad3145e",
        "colab": {
          "base_uri": "https://localhost:8080/"
        }
      },
      "execution_count": null,
      "outputs": [
        {
          "output_type": "stream",
          "name": "stdout",
          "text": [
            "5\n",
            "3\n"
          ]
        },
        {
          "output_type": "execute_result",
          "data": {
            "text/plain": [
              "(5, 3)"
            ]
          },
          "metadata": {},
          "execution_count": 3
        }
      ]
    },
    {
      "cell_type": "code",
      "source": [
        "flavors = [\"pistachio\", \"malaga\", \"vanilla\", \"chocolate\", \"strawberry\"]\n",
        "prompt = \"Choose your flavor: \"\n",
        "print(flavors)\n",
        "while True:\n",
        "    choice = input(prompt)\n",
        "    if choice in flavors:\n",
        "        break\n",
        "    print(f\"Sorry, '{choice}' is not a valid option.\")\n",
        "print(f\"You chose '{choice}'.\")"
      ],
      "metadata": {
        "colab": {
          "base_uri": "https://localhost:8080/"
        },
        "id": "dASU-PEk14DI",
        "outputId": "d4c769e7-92f6-45de-d34d-84a07c569018"
      },
      "execution_count": 2,
      "outputs": [
        {
          "output_type": "stream",
          "name": "stdout",
          "text": [
            "['pistachio', 'malaga', 'vanilla', 'chocolate', 'strawberry']\n",
            "Choose your flavor: malaga\n",
            "You chose 'malaga'.\n"
          ]
        }
      ]
    },
    {
      "cell_type": "code",
      "source": [
        "primes = [] # esto contendrá los números primos al final\n",
        "upto = 100 # el límite\n",
        "for n in range(2, upto + 1):\n",
        "    is_prime = True # Bandera, nuevo en cada iteración de exterior\n",
        "    for divisor in range(2, n):\n",
        "        if n % divisor == 0:\n",
        "            is_prime = False\n",
        "            break\n",
        "    if is_prime: # comprobar la bandera\n",
        "        primes.append(n)\n",
        "print(primes)"
      ],
      "metadata": {
        "colab": {
          "base_uri": "https://localhost:8080/"
        },
        "id": "nVU1GvLt2VgP",
        "outputId": "8d2a1ac3-29a4-4500-84c6-5a8ec5dffebf"
      },
      "execution_count": 3,
      "outputs": [
        {
          "output_type": "stream",
          "name": "stdout",
          "text": [
            "[2, 3, 5, 7, 11, 13, 17, 19, 23, 29, 31, 37, 41, 43, 47, 53, 59, 61, 67, 71, 73, 79, 83, 89, 97]\n"
          ]
        }
      ]
    },
    {
      "cell_type": "code",
      "source": [
        "def outer():\n",
        "    test = 1 # outer scope\n",
        "\n",
        "    def inner():\n",
        "        test = 2 # inner scope\n",
        "        print('inner:', test)\n",
        "    inner()\n",
        "    print('outer:', test)\n",
        "\n",
        "test = 0 # global scope\n",
        "outer()\n",
        "print('global:', test)\n"
      ],
      "metadata": {
        "colab": {
          "base_uri": "https://localhost:8080/"
        },
        "id": "sH5WiHft2rfj",
        "outputId": "0fde0ac4-af7b-4eaa-c0d5-dbde1dbaff28"
      },
      "execution_count": 4,
      "outputs": [
        {
          "output_type": "stream",
          "name": "stdout",
          "text": [
            "inner: 2\n",
            "outer: 1\n",
            "global: 0\n"
          ]
        }
      ]
    },
    {
      "cell_type": "code",
      "source": [
        "def func(a, b, c):\n",
        "    print(a, b, c)\n",
        "func(a=1, c=2, b=3) # prints: 1 3 2"
      ],
      "metadata": {
        "colab": {
          "base_uri": "https://localhost:8080/"
        },
        "id": "mSSzIwE440nr",
        "outputId": "c384c6b2-2a75-4b9d-8091-49742fc7e05b"
      },
      "execution_count": 5,
      "outputs": [
        {
          "output_type": "stream",
          "name": "stdout",
          "text": [
            "1 3 2\n"
          ]
        }
      ]
    },
    {
      "cell_type": "code",
      "source": [
        "def minimum(*n):\n",
        "    # print(type(n)) # n is a tuple\n",
        "    if n: # explained after the code\n",
        "        mn = n[0]\n",
        "        for value in n[1:]:\n",
        "            if value < mn:\n",
        "                mn = value\n",
        "        print(mn)\n",
        "minimum(1, 3, -7, 9) # n = (1, 3, -7, 9) - prints: -7\n",
        "minimum() # n = () - prints: nothing"
      ],
      "metadata": {
        "colab": {
          "base_uri": "https://localhost:8080/"
        },
        "id": "xZRiAwak5II1",
        "outputId": "eee0b0ab-a241-451f-db15-c5c55562db1f"
      },
      "execution_count": 6,
      "outputs": [
        {
          "output_type": "stream",
          "name": "stdout",
          "text": [
            "-7\n"
          ]
        }
      ]
    },
    {
      "cell_type": "code",
      "source": [
        "def factorial(n):\n",
        "    if n in (0, 1):\n",
        "        return 1\n",
        "    result = n\n",
        "    for k in range(2, n):\n",
        "        result *= k\n",
        "    return result\n",
        "f5 = factorial(5) # f5 = 120\n",
        "print(f5)"
      ],
      "metadata": {
        "colab": {
          "base_uri": "https://localhost:8080/"
        },
        "id": "Rr4P58kL5kPE",
        "outputId": "209583cc-1b6a-40d5-887b-9f14914973b3"
      },
      "execution_count": 7,
      "outputs": [
        {
          "output_type": "stream",
          "name": "stdout",
          "text": [
            "120\n"
          ]
        }
      ]
    },
    {
      "cell_type": "code",
      "source": [
        "def adder(a, b):\n",
        "    return a + b\n",
        "# es equivalente a:\n",
        "adder_lambda = lambda a, b: a + b\n",
        "# ejemplo 2: a mayúsculas\n",
        "def to_upper(s):\n",
        "    return s.upper()\n",
        "# es equivalente a:\n",
        "to_upper_lambda = lambda s: s.upper()"
      ],
      "metadata": {
        "id": "ScRdEmOJ50IA"
      },
      "execution_count": 10,
      "outputs": []
    },
    {
      "cell_type": "code",
      "source": [
        "from pathlib import Path\n",
        "p = Path('fear.txt')\n",
        "print(p.absolute())\n",
        "print(p.name)\n",
        "print(p.parent.absolute())\n",
        "print(p.suffix)\n",
        "print(p.parts)\n",
        "print(p.absolute().parts)\n",
        "readme_path = p.parent / '..' / '..' / 'README.rst'\n",
        "print(readme_path.absolute())\n",
        "print(readme_path.resolve())"
      ],
      "metadata": {
        "colab": {
          "base_uri": "https://localhost:8080/"
        },
        "id": "oygT12LB_24E",
        "outputId": "6fa4abf2-0d49-4305-fd98-0dc9383ec16f"
      },
      "execution_count": 14,
      "outputs": [
        {
          "output_type": "stream",
          "name": "stdout",
          "text": [
            "/content/fear.txt\n",
            "fear.txt\n",
            "/content\n",
            ".txt\n",
            "('fear.txt',)\n",
            "('/', 'content', 'fear.txt')\n",
            "/content/../../README.rst\n",
            "/README.rst\n"
          ]
        }
      ]
    },
    {
      "cell_type": "code",
      "source": [
        "from tempfile import NamedTemporaryFile, TemporaryDirectory\n",
        "\n",
        "with TemporaryDirectory(dir='.') as td:\n",
        "    print('Temp directory:', td)\n",
        "    with NamedTemporaryFile(dir=td) as t:\n",
        "        name = t.name\n",
        "        print(name)"
      ],
      "metadata": {
        "colab": {
          "base_uri": "https://localhost:8080/"
        },
        "id": "24zGw9aMRSQH",
        "outputId": "855025c2-7be1-466a-a225-c1e2ba43c349"
      },
      "execution_count": 15,
      "outputs": [
        {
          "output_type": "stream",
          "name": "stdout",
          "text": [
            "Temp directory: ./tmpfex80bzd\n",
            "/content/tmpfex80bzd/tmp73xx_g3i\n"
          ]
        }
      ]
    },
    {
      "cell_type": "code",
      "source": [
        "from pathlib import Path\n",
        "p = Path('.')\n",
        "for entry in p.glob('*'):\n",
        "    print('File:' if entry.is_file() else 'Folder:', entry)"
      ],
      "metadata": {
        "colab": {
          "base_uri": "https://localhost:8080/"
        },
        "id": "A1YlhY7vR1sJ",
        "outputId": "aab9d6a8-544e-49fe-82ee-715062c5d781"
      },
      "execution_count": 16,
      "outputs": [
        {
          "output_type": "stream",
          "name": "stdout",
          "text": [
            "Folder: .config\n",
            "Folder: sample_data\n"
          ]
        }
      ]
    },
    {
      "cell_type": "code",
      "source": [
        "import os\n",
        "for root, dirs, files in os.walk('.'):\n",
        "    abs_root = os.path.abspath(root)\n",
        "    print(abs_root)\n",
        "\n",
        "    if dirs:\n",
        "        print('Directories:')\n",
        "        for dir_ in dirs:\n",
        "            print(dir_)\n",
        "        print()\n",
        "    if files:\n",
        "        print('Files:')\n",
        "        for filename in files:\n",
        "            print(filename)\n",
        "        print()"
      ],
      "metadata": {
        "colab": {
          "base_uri": "https://localhost:8080/"
        },
        "id": "Be0oeOPRTdnN",
        "outputId": "f68af8d6-b9ba-4c34-c6da-d7b00b336e4b"
      },
      "execution_count": 19,
      "outputs": [
        {
          "output_type": "stream",
          "name": "stdout",
          "text": [
            "/content\n",
            "Directories:\n",
            ".config\n",
            "sample_data\n",
            "\n",
            "Files:\n",
            "example.zip\n",
            "\n",
            "/content/.config\n",
            "Directories:\n",
            "logs\n",
            "configurations\n",
            "\n",
            "Files:\n",
            ".last_opt_in_prompt.yaml\n",
            ".last_survey_prompt.yaml\n",
            "gce\n",
            "config_sentinel\n",
            "default_configs.db\n",
            ".last_update_check.json\n",
            "active_config\n",
            "\n",
            "/content/.config/logs\n",
            "Directories:\n",
            "2023.10.04\n",
            "\n",
            "/content/.config/logs/2023.10.04\n",
            "Files:\n",
            "13.22.30.385081.log\n",
            "13.21.50.351336.log\n",
            "13.22.18.686035.log\n",
            "13.22.52.893540.log\n",
            "13.22.51.903174.log\n",
            "13.22.39.906877.log\n",
            "\n",
            "/content/.config/configurations\n",
            "Files:\n",
            "config_default\n",
            "\n",
            "/content/sample_data\n",
            "Files:\n",
            "README.md\n",
            "anscombe.json\n",
            "california_housing_test.csv\n",
            "mnist_train_small.csv\n",
            "california_housing_train.csv\n",
            "mnist_test.csv\n",
            "\n"
          ]
        }
      ]
    },
    {
      "cell_type": "code",
      "source": [
        "import sys\n",
        "import json\n",
        "\n",
        "data = {\n",
        "    'big_number': 2 ** 3141,\n",
        "    'max_float': sys.float_info.max,\n",
        "    'a_list': [2, 3, 5, 7],\n",
        "}\n",
        "\n",
        "json_data = json.dumps(data)\n",
        "data_out = json.loads(json_data)\n",
        "assert data == data_out # json and back, data matches\n",
        "\n",
        "with open('data.json', 'wt') as f:\n",
        "    json.dump(data, f)"
      ],
      "metadata": {
        "id": "ozOJFbnnUbTu"
      },
      "execution_count": 21,
      "outputs": []
    },
    {
      "cell_type": "code",
      "source": [
        "import json\n",
        "info = {\n",
        "'full_name': 'Sherlock Holmes',\n",
        "'address': {\n",
        "'street': '221B Baker St',\n",
        "'zip': 'NW1 6XE',\n",
        "'city': 'London',\n",
        "'country': 'UK',\n",
        "}\n",
        "}\n",
        "print(json.dumps(info, indent=2, sort_keys=True))"
      ],
      "metadata": {
        "colab": {
          "base_uri": "https://localhost:8080/"
        },
        "id": "IwaNImLhUdmE",
        "outputId": "082a7a3c-267e-48a0-c5c0-4e5bb0f172d4"
      },
      "execution_count": 22,
      "outputs": [
        {
          "output_type": "stream",
          "name": "stdout",
          "text": [
            "{\n",
            "  \"address\": {\n",
            "    \"city\": \"London\",\n",
            "    \"country\": \"UK\",\n",
            "    \"street\": \"221B Baker St\",\n",
            "    \"zip\": \"NW1 6XE\"\n",
            "  },\n",
            "  \"full_name\": \"Sherlock Holmes\"\n",
            "}\n"
          ]
        }
      ]
    },
    {
      "cell_type": "code",
      "source": [
        "import io\n",
        "\n",
        "stream = io.StringIO()\n",
        "stream.write('Learning Python Programming.\\n')\n",
        "print('Become a Python ninja!', file=stream)\n",
        "\n",
        "contents = stream.getvalue()\n",
        "print(contents)\n",
        "\n",
        "stream.close()"
      ],
      "metadata": {
        "colab": {
          "base_uri": "https://localhost:8080/"
        },
        "id": "TgLWaiX1U6m_",
        "outputId": "99954e84-5382-4119-dbe2-a1fc50194766"
      },
      "execution_count": 23,
      "outputs": [
        {
          "output_type": "stream",
          "name": "stdout",
          "text": [
            "Learning Python Programming.\n",
            "Become a Python ninja!\n",
            "\n"
          ]
        }
      ]
    },
    {
      "cell_type": "code",
      "source": [
        "import requests\n",
        "urls = {\n",
        "    \"get\": \"https://httpbin.org/get?t=learn+python+programming\",\n",
        "    \"headers\": \"https://httpbin.org/headers\",\n",
        "    \"ip\": \"https://httpbin.org/ip\",\n",
        "    \"user-agent\": \"https://httpbin.org/user-agent\",\n",
        "    \"UUID\": \"https://httpbin.org/uuid\",\n",
        "    \"JSON\": \"https://httpbin.org/json\",\n",
        "}\n",
        "def get_content(title, url):\n",
        "    resp = requests.get(url)\n",
        "    print(f\"Response for {title}\")\n",
        "    print(resp.json())\n",
        "\n",
        "\n",
        "for title, url in urls.items():\n",
        "    get_content(title, url)\n",
        "    print(\"-\" * 40)"
      ],
      "metadata": {
        "colab": {
          "base_uri": "https://localhost:8080/"
        },
        "id": "K5vRtkwjVQEk",
        "outputId": "b14d4d84-8839-4b0f-8846-a8fe2a134ff0"
      },
      "execution_count": 24,
      "outputs": [
        {
          "output_type": "stream",
          "name": "stdout",
          "text": [
            "Response for get\n",
            "{'args': {'t': 'learn python programming'}, 'headers': {'Accept': '*/*', 'Accept-Encoding': 'gzip, deflate', 'Host': 'httpbin.org', 'User-Agent': 'python-requests/2.31.0', 'X-Amzn-Trace-Id': 'Root=1-651f92b4-05af8b46754bb3a815158b67'}, 'origin': '35.245.254.177', 'url': 'https://httpbin.org/get?t=learn+python+programming'}\n",
            "----------------------------------------\n",
            "Response for headers\n",
            "{'headers': {'Accept': '*/*', 'Accept-Encoding': 'gzip, deflate', 'Host': 'httpbin.org', 'User-Agent': 'python-requests/2.31.0', 'X-Amzn-Trace-Id': 'Root=1-651f92b4-3817fe9c3683d96d1e2f5386'}}\n",
            "----------------------------------------\n",
            "Response for ip\n",
            "{'origin': '35.245.254.177'}\n",
            "----------------------------------------\n",
            "Response for user-agent\n",
            "{'user-agent': 'python-requests/2.31.0'}\n",
            "----------------------------------------\n",
            "Response for UUID\n",
            "{'uuid': 'b185aee4-6851-4445-9420-07a21715fd30'}\n",
            "----------------------------------------\n",
            "Response for JSON\n",
            "{'slideshow': {'author': 'Yours Truly', 'date': 'date of publication', 'slides': [{'title': 'Wake up to WonderWidgets!', 'type': 'all'}, {'items': ['Why <em>WonderWidgets</em> are great', 'Who <em>buys</em> WonderWidgets'], 'title': 'Overview', 'type': 'all'}], 'title': 'Sample Slide Show'}}\n",
            "----------------------------------------\n"
          ]
        }
      ]
    },
    {
      "cell_type": "code",
      "source": [
        "import requests\n",
        "\n",
        "url = 'https://httpbin.org/post'\n",
        "data = dict(title='Learn Python Programming')\n",
        "\n",
        "resp = requests.post(url, data=data)\n",
        "print('Response for POST')\n",
        "print(resp.json())"
      ],
      "metadata": {
        "colab": {
          "base_uri": "https://localhost:8080/"
        },
        "id": "yjT_QeZUVk7Z",
        "outputId": "68e3b2a4-cfe3-4afb-c00c-bd341b9ee216"
      },
      "execution_count": 25,
      "outputs": [
        {
          "output_type": "stream",
          "name": "stdout",
          "text": [
            "Response for POST\n",
            "{'args': {}, 'data': '', 'files': {}, 'form': {'title': 'Learn Python Programming'}, 'headers': {'Accept': '*/*', 'Accept-Encoding': 'gzip, deflate', 'Content-Length': '30', 'Content-Type': 'application/x-www-form-urlencoded', 'Host': 'httpbin.org', 'User-Agent': 'python-requests/2.31.0', 'X-Amzn-Trace-Id': 'Root=1-651f9309-4b884daf3df176180e7d0903'}, 'json': None, 'origin': '35.245.254.177', 'url': 'https://httpbin.org/post'}\n"
          ]
        }
      ]
    },
    {
      "cell_type": "code",
      "source": [
        "import pickle\n",
        "from dataclasses import dataclass\n",
        "\n",
        "@dataclass\n",
        "class Person:\n",
        "    first_name: str\n",
        "    last_name: str\n",
        "    id: int\n",
        "\n",
        "def greet(self):\n",
        "    print(f'Hi, I am {self.first_name} {self.last_name}'\n",
        "        f' and my ID is {self.id}')\n",
        "\n",
        "people = [\n",
        "    Person('Obi-Wan', 'Kenobi', 123),\n",
        "    Person('Anakin', 'Skywalker', 456),\n",
        "]\n",
        "# save data in binary format to a file\n",
        "with open('data.pickle', 'wb') as stream:\n",
        "    pickle.dump(people, stream)\n",
        "\n",
        "# load data from a file\n",
        "with open('data.pickle', 'rb') as stream:\n",
        "    peeps = pickle.load(stream)\n",
        "\n",
        "for person in peeps:\n",
        "    greet(person)"
      ],
      "metadata": {
        "colab": {
          "base_uri": "https://localhost:8080/"
        },
        "id": "r0VhdrsqV8LU",
        "outputId": "879364f8-71ad-4ebb-b994-0b1ff762c5ef"
      },
      "execution_count": 26,
      "outputs": [
        {
          "output_type": "stream",
          "name": "stdout",
          "text": [
            "Hi, I am Obi-Wan Kenobi and my ID is 123\n",
            "Hi, I am Anakin Skywalker and my ID is 456\n"
          ]
        }
      ]
    },
    {
      "cell_type": "code",
      "source": [
        "import shelve\n",
        "\n",
        "class Person:\n",
        "    def __init__(self, name, id):\n",
        "        self.name = name\n",
        "        self.id = id\n",
        "\n",
        "with shelve.open('shelf1.shelve') as db:\n",
        "    db['obi1'] = Person('Obi-Wan', 123)\n",
        "    db['ani'] = Person('Anakin', 456)\n",
        "    db['a_list'] = [2, 3, 5]\n",
        "    db['delete_me'] = 'we will have to delete this one...'\n",
        "    print(list(db.keys())) # 'ani', 'delete_me', 'a_list', 'obi1']\n",
        "\n",
        "    del db['delete_me'] # gone!\n",
        "    print(list(db.keys())) # ['ani', 'a_list', 'obi1']\n",
        "    print('delete_me' in db) # False\n",
        "    print('ani' in db) # True\n",
        "\n",
        "    a_list = db['a_list']\n",
        "    a_list.append(7)\n",
        "    db['a_list'] = a_list\n",
        "    print(db['a_list']) # [2, 3, 5, 7]\n",
        "['obi1', 'ani', 'a_list', 'delete_me']\n",
        "['obi1', 'ani', 'a_list']\n",
        "False\n",
        "True\n",
        "[2, 3, 5, 7]"
      ],
      "metadata": {
        "colab": {
          "base_uri": "https://localhost:8080/"
        },
        "id": "MpG64QCaWZeW",
        "outputId": "21b33f20-3467-4203-ed6d-a2c23477c267"
      },
      "execution_count": 27,
      "outputs": [
        {
          "output_type": "stream",
          "name": "stdout",
          "text": [
            "['a_list', 'ani', 'delete_me', 'obi1']\n",
            "['a_list', 'ani', 'obi1']\n",
            "False\n",
            "True\n",
            "[2, 3, 5, 7]\n"
          ]
        },
        {
          "output_type": "execute_result",
          "data": {
            "text/plain": [
              "[2, 3, 5, 7]"
            ]
          },
          "metadata": {},
          "execution_count": 27
        }
      ]
    }
  ]
}